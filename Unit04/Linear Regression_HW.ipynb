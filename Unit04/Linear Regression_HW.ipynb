{
 "cells": [
  {
   "cell_type": "markdown",
   "metadata": {},
   "source": [
    "## 基礎題 - 算出斜率w與截距b\n",
    "\n",
    "y = wx + b\n",
    "\n",
    "記得計算前X須符合資料格式\n",
    "$$[x_1, x_2, \\ldots, x_{50}]$$\n",
    "\n",
    "==> \n",
    "\n",
    "$$[[x_1], [x_2], \\ldots, [x_{50}]]$$"
   ]
  },
  {
   "cell_type": "code",
   "execution_count": 54,
   "metadata": {},
   "outputs": [
    {
     "name": "stdout",
     "output_type": "stream",
     "text": [
      "setup completed\n"
     ]
    }
   ],
   "source": [
    "%matplotlib inline\n",
    "import numpy as np\n",
    "import matplotlib.pyplot as plt\n",
    "print('setup completed')"
   ]
  },
  {
   "cell_type": "code",
   "execution_count": 6,
   "metadata": {},
   "outputs": [],
   "source": [
    "x = np.array([ 0.        ,  0.20408163,  0.40816327,  0.6122449 ,  0.81632653,\n",
    "        1.02040816,  1.2244898 ,  1.42857143,  1.63265306,  1.83673469,\n",
    "        2.04081633,  2.24489796,  2.44897959,  2.65306122,  2.85714286,\n",
    "        3.06122449,  3.26530612,  3.46938776,  3.67346939,  3.87755102,\n",
    "        4.08163265,  4.28571429,  4.48979592,  4.69387755,  4.89795918,\n",
    "        5.10204082,  5.30612245,  5.51020408,  5.71428571,  5.91836735,\n",
    "        6.12244898,  6.32653061,  6.53061224,  6.73469388,  6.93877551,\n",
    "        7.14285714,  7.34693878,  7.55102041,  7.75510204,  7.95918367,\n",
    "        8.16326531,  8.36734694,  8.57142857,  8.7755102 ,  8.97959184,\n",
    "        9.18367347,  9.3877551 ,  9.59183673,  9.79591837, 10.        ])\n",
    "y = np.array([ 0.85848224, -0.10657947,  1.42771901,  0.53554778,  1.20216826,\n",
    "        1.81330509,  1.88362644,  2.23557653,  2.7384889 ,  3.41174583,\n",
    "        4.08573636,  3.82529502,  4.39723111,  4.8852381 ,  4.70092778,\n",
    "        4.66993962,  6.05133235,  5.44529881,  7.22571332,  6.79423911,\n",
    "        7.05424438,  7.00413058,  7.98149596,  7.00044008,  7.95903855,\n",
    "        9.96125238,  9.06040794,  9.56018295,  9.30035956,  9.26517614,\n",
    "        9.56401824, 10.07659844, 11.56755942, 11.38956185, 11.83586027,\n",
    "       12.45642786, 11.58403954, 11.60186428, 13.88486667, 13.35550112,\n",
    "       13.93938726, 13.31678277, 13.69551472, 14.76548676, 14.81731598,\n",
    "       14.9659187 , 15.19213921, 15.28195017, 15.97997265, 16.41258817])"
   ]
  },
  {
   "cell_type": "code",
   "execution_count": 7,
   "metadata": {},
   "outputs": [
    {
     "name": "stdout",
     "output_type": "stream",
     "text": [
      "coef: [1.61701852]\n",
      "intercept: 0.27312968949421723\n"
     ]
    }
   ],
   "source": [
    "#匯入在sklearn.linear_model套件裡面的LinearRegression模型\n",
    "#將模型工具指派給一變數做使用\n",
    "#注意轉換x得格式1D->2D\n",
    "#將x,y資料導入LinearRegression演算法做訓練\n",
    "#列印出訓練完成之函數的斜率與截距\n",
    "from sklearn.linear_model import LinearRegression\n",
    "regr = LinearRegression()\n",
    "x = x.reshape(-1,1)\n",
    "regr.fit(x, y)\n",
    "print('coef:', regr.coef_)\n",
    "print('intercept:', regr.intercept_)"
   ]
  },
  {
   "cell_type": "markdown",
   "metadata": {},
   "source": [
    "## 進階題 - 切割資料集分別做訓練與預測(訓練資料80%、測試資料20%)\n"
   ]
  },
  {
   "cell_type": "code",
   "execution_count": 22,
   "metadata": {},
   "outputs": [],
   "source": [
    "%matplotlib inline\n",
    "import numpy as np\n",
    "import matplotlib.pyplot as plt\n",
    "\n",
    "x = np.array([ 0.        ,  0.20408163,  0.40816327,  0.6122449 ,  0.81632653,\n",
    "        1.02040816,  1.2244898 ,  1.42857143,  1.63265306,  1.83673469,\n",
    "        2.04081633,  2.24489796,  2.44897959,  2.65306122,  2.85714286,\n",
    "        3.06122449,  3.26530612,  3.46938776,  3.67346939,  3.87755102,\n",
    "        4.08163265,  4.28571429,  4.48979592,  4.69387755,  4.89795918,\n",
    "        5.10204082,  5.30612245,  5.51020408,  5.71428571,  5.91836735,\n",
    "        6.12244898,  6.32653061,  6.53061224,  6.73469388,  6.93877551,\n",
    "        7.14285714,  7.34693878,  7.55102041,  7.75510204,  7.95918367,\n",
    "        8.16326531,  8.36734694,  8.57142857,  8.7755102 ,  8.97959184,\n",
    "        9.18367347,  9.3877551 ,  9.59183673,  9.79591837, 10.        ])\n",
    "y = np.array([ 0.85848224, -0.10657947,  1.42771901,  0.53554778,  1.20216826,\n",
    "        1.81330509,  1.88362644,  2.23557653,  2.7384889 ,  3.41174583,\n",
    "        4.08573636,  3.82529502,  4.39723111,  4.8852381 ,  4.70092778,\n",
    "        4.66993962,  6.05133235,  5.44529881,  7.22571332,  6.79423911,\n",
    "        7.05424438,  7.00413058,  7.98149596,  7.00044008,  7.95903855,\n",
    "        9.96125238,  9.06040794,  9.56018295,  9.30035956,  9.26517614,\n",
    "        9.56401824, 10.07659844, 11.56755942, 11.38956185, 11.83586027,\n",
    "       12.45642786, 11.58403954, 11.60186428, 13.88486667, 13.35550112,\n",
    "       13.93938726, 13.31678277, 13.69551472, 14.76548676, 14.81731598,\n",
    "       14.9659187 , 15.19213921, 15.28195017, 15.97997265, 16.41258817])\n"
   ]
  },
  {
   "cell_type": "code",
   "execution_count": 12,
   "metadata": {},
   "outputs": [
    {
     "data": {
      "image/png": "[encoded data removed]",
      "text/plain": [
       "<Figure size 432x288 with 1 Axes>"
      ]
     },
     "metadata": {
      "needs_background": "light"
     },
     "output_type": "display_data"
    }
   ],
   "source": [
    "#匯入在sklearn.linear_model套件裡面的LinearRegression模型\n",
    "#匯入在sklearn.model_selection套件裡面的train_test_split模組\n",
    "#切割數據集(訓練資料80%、測試資料20%，設定random_state=20)\n",
    "#畫出訓練資料集的matplotlib圖形m\n",
    "from sklearn.model_selection import train_test_split\n",
    "from sklearn.metrics import mean_squared_error\n",
    "import matplotlib.pyplot as plt\n",
    "x_train, x_test, y_train, y_test = train_test_split(x, y, test_size=0.2, random_state=20)\n",
    "plt.scatter(x_train, y_train)\n",
    "plt.show()"
   ]
  },
  {
   "cell_type": "markdown",
   "metadata": {},
   "source": [
    "## 用訓練資料來 fit 函數\n",
    "1. 只用訓練資料集的資料進行linear regression演算法<br>\n",
    "2. 並計算出訓練階段的MSE\n",
    "3. 畫出目標點(藍色)與預測點(紅色)的對應圖\n",
    "![](images/LR_train.PNG)"
   ]
  },
  {
   "cell_type": "code",
   "execution_count": 30,
   "metadata": {},
   "outputs": [
    {
     "name": "stdout",
     "output_type": "stream",
     "text": [
      "coef: [1.60659227]\n",
      "intercept: 0.36802581786862376\n"
     ]
    },
    {
     "data": {
      "text/plain": [
       "0.2284495300761316"
      ]
     },
     "execution_count": 30,
     "metadata": {},
     "output_type": "execute_result"
    }
   ],
   "source": [
    "x_train = x_train.reshape(-1,1)\n",
    "regr.fit(x_train, y_train)\n",
    "print('coef:', regr.coef_)\n",
    "print('intercept:', regr.intercept_)\n",
    "mean_squared_error(y_train, regr.predict(x_train))"
   ]
  },
  {
   "cell_type": "code",
   "execution_count": 29,
   "metadata": {},
   "outputs": [
    {
     "data": {
      "image/png": "[encoded data removed]",
      "text/plain": [
       "<Figure size 432x288 with 1 Axes>"
      ]
     },
     "metadata": {
      "needs_background": "light"
     },
     "output_type": "display_data"
    }
   ],
   "source": [
    "plt.scatter(x_train, regr.predict(x_train), c='r', label='predict')\n",
    "plt.scatter(x_train, y_train, c='b',label='y_train')\n",
    "plt.legend()\n",
    "plt.show()"
   ]
  },
  {
   "cell_type": "markdown",
   "metadata": {},
   "source": [
    "## 將訓練出來的函數預測測試集的X值\n",
    "1. 使用剛剛訓練出來的模型進行測試資料集的資料預測*注意reshape<br>\n",
    "使用X = 2.44897959，預測出來數值應該為 4.3025375<br>\n",
    "所有測試集資料\n",
    "$$\\widehat{y}=xw+b=w_{1}x_{1}+b$$"
   ]
  },
  {
   "cell_type": "code",
   "execution_count": 39,
   "metadata": {},
   "outputs": [
    {
     "name": "stdout",
     "output_type": "stream",
     "text": [
      "[ 4.3025375   4.95828946  1.67952971  2.99103361 15.12244466  0.69590179\n",
      "  8.56492518  8.23704919 15.7781966   7.90917322]\n"
     ]
    }
   ],
   "source": [
    "pred = regr.predict(x_test.reshape(-1,1))\n",
    "print(pred)"
   ]
  },
  {
   "cell_type": "code",
   "execution_count": 33,
   "metadata": {},
   "outputs": [
    {
     "data": {
      "text/plain": [
       "array([4.3025375])"
      ]
     },
     "execution_count": 33,
     "metadata": {},
     "output_type": "execute_result"
    }
   ],
   "source": [
    "regr.predict([[2.44897959]])"
   ]
  },
  {
   "cell_type": "markdown",
   "metadata": {},
   "source": [
    "2. 並計算出測試階段的MSE"
   ]
  },
  {
   "cell_type": "code",
   "execution_count": 48,
   "metadata": {},
   "outputs": [
    {
     "name": "stdout",
     "output_type": "stream",
     "text": [
      "MSE: 0.41344072565862955\n"
     ]
    }
   ],
   "source": [
    "MSE = mean_squared_error(y_test, pred)\n",
    "print('MSE:', MSE)"
   ]
  },
  {
   "cell_type": "markdown",
   "metadata": {},
   "source": [
    "3. 畫出目標點(藍色)與預測點(紅色)的對應圖\n",
    "![](images/LR_test.PNG)"
   ]
  },
  {
   "cell_type": "code",
   "execution_count": 56,
   "metadata": {},
   "outputs": [
    {
     "data": {
      "image/png": "[encoded data removed]",
      "text/plain": [
       "<Figure size 432x288 with 1 Axes>"
      ]
     },
     "metadata": {
      "needs_background": "light"
     },
     "output_type": "display_data"
    }
   ],
   "source": [
    "plt.scatter(x_test, pred, c='r', label='Predict', alpha=0.5)\n",
    "plt.scatter(x_test, y_test, c='b', label='Ground Truth', alpha=0.5)\n",
    "plt.title('f(x)=1.6x+0.2, mse='+str(round(MSE,2)))\n",
    "plt.legend()\n",
    "plt.show()"
   ]
  },
  {
   "cell_type": "code",
   "execution_count": null,
   "metadata": {},
   "outputs": [],
   "source": []
  }
 ],
 "metadata": {
  "kernelspec": {
   "display_name": "Python 3 (ipykernel)",
   "language": "python",
   "name": "python3"
  },
  "language_info": {
   "codemirror_mode": {
    "name": "ipython",
    "version": 3
   },
   "file_extension": ".py",
   "mimetype": "text/x-python",
   "name": "python",
   "nbconvert_exporter": "python",
   "pygments_lexer": "ipython3",
   "version": "3.9.7"
  }
 },
 "nbformat": 4,
 "nbformat_minor": 4
}
